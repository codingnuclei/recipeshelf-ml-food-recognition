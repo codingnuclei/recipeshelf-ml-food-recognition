{
 "cells": [
  {
   "cell_type": "markdown",
   "metadata": {},
   "source": [
    "# Exploratory data analysis of food images \n",
    "\n",
    "This notebook will do the exploratory data analysis of the food images.\n",
    "\n",
    "### EDA checklist\n",
    "\n",
    "* What question(s) are you trying to solve (or prove wrong)?\n",
    "* What kind of data do you have and how do you treat different types?\n",
    "* What’s missing from the data and how do you deal with it?\n",
    "* Where are the outliers and why should you care about them?\n",
    "* How can you add, change or remove features to get more out of your data?"
   ]
  },
  {
   "cell_type": "markdown",
   "metadata": {},
   "source": [
    "The bigger goal is to <span style=\"color:blue\">recognize food from images</span>. Starting with analysing the amount and kind of data present for this project."
   ]
  }
 ],
 "metadata": {
  "kernelspec": {
   "display_name": "Python 3",
   "language": "python",
   "name": "python3"
  },
  "language_info": {
   "codemirror_mode": {
    "name": "ipython",
    "version": 3
   },
   "file_extension": ".py",
   "mimetype": "text/x-python",
   "name": "python",
   "nbconvert_exporter": "python",
   "pygments_lexer": "ipython3",
   "version": "3.7.3"
  }
 },
 "nbformat": 4,
 "nbformat_minor": 2
}
