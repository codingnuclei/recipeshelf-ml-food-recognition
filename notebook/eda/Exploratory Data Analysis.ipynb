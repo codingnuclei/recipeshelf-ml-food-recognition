{
 "cells": [
  {
   "cell_type": "markdown",
   "metadata": {},
   "source": [
    "# Exploratory data analysis of food images \n",
    "\n",
    "This notebook will do the exploratory data analysis of the food images.\n",
    "\n",
    "### EDA checklist\n",
    "\n",
    "* What question(s) are you trying to solve (or prove wrong)?\n",
    "* What kind of data do you have and how do you treat different types?\n",
    "* What’s missing from the data and how do you deal with it?\n",
    "* Where are the outliers and why should you care about them?\n",
    "* How can you add, change or remove features to get more out of your data?"
   ]
  },
  {
   "cell_type": "markdown",
   "metadata": {},
   "source": [
    "## Random walk across datasets"
   ]
  },
  {
   "cell_type": "markdown",
   "metadata": {},
   "source": [
    "The bigger goal is to <span style=\"color:blue\">recognize food from images</span>. Starting with analyzing the amount and kind of data present for this project."
   ]
  },
  {
   "cell_type": "markdown",
   "metadata": {},
   "source": [
    "The dataset contains 4 different datasets.\n",
    "* UECFOOD100\n",
    "* UECFOOD256\n",
    "* food-101\n",
    "* google-images\n",
    "\n",
    "<b>UECFOOD100</b>\n",
    "This dataset is under the dataset100 directory and contains images of 100 different japanese food items. Images of each food items are stored in a directory named as a number. The parent directory also contains a text file which indicated the mapping of food directories to their corresponding labels. "
   ]
  },
  {
   "cell_type": "code",
   "execution_count": null,
   "metadata": {},
   "outputs": [],
   "source": [
    "# reading the first 7 lines of the file that contains the food labels\n",
    "uecFood100DataLabels = open(\"../../data/raw/dataset100/UECFOOD100/category.txt\", \"r\")\n",
    "print(uecFood100DataLabels.read(98)) # 98 denoted the number of words to read from file"
   ]
  },
  {
   "cell_type": "markdown",
   "metadata": {},
   "source": [
    "The images within each directory are named randomly to some numbers. Here are the names of last 10  within directory number 2 i.e <i>eels on rice</i>. "
   ]
  },
  {
   "cell_type": "code",
   "execution_count": null,
   "metadata": {},
   "outputs": [],
   "source": [
    "import os\n",
    "\n",
    "path = '../../data/raw/dataset100/UECFOOD100/2'\n",
    "\n",
    "filesEelsOnRice = []\n",
    "\n",
    "# r=root, d=directories, f = files\n",
    "for r, d, f in os.walk(path):\n",
    "    for file in f:\n",
    "        filesEelsOnRice.append(os.path.join(r, file))\n",
    "        \n",
    "filesEelsOnRice[-10:]"
   ]
  },
  {
   "cell_type": "markdown",
   "metadata": {},
   "source": [
    "So, the images are not named in any systematic manner. Before we rename them, let's see the quality of these images by randomly plotting three images(<i>randomly selected 15650, 10768, 112</i>) from this directory. Also, each directory contains a bb_info.txt files. We can look into that as well."
   ]
  },
  {
   "cell_type": "code",
   "execution_count": null,
   "metadata": {},
   "outputs": [],
   "source": [
    "from IPython.display import Image as Images, display\n",
    "import random\n",
    "\n",
    "listOfImageNames = ['15650.jpg', '10768.jpg', '112.jpg'] \n",
    "\n",
    "# Randomly selecting 3 images, but it will not generate the same output everytime.\n",
    "# for i in range(3):\n",
    "#     listOfImageNames.append(random.choice(os.listdir(\"../../data/raw/dataset100/UECFOOD100/2/\")))\n",
    "    \n",
    "for imageName in listOfImageNames:\n",
    "    display(Images(filename=\"../../data/raw/dataset100/UECFOOD100/2/\" + imageName))\n",
    "                "
   ]
  },
  {
   "cell_type": "markdown",
   "metadata": {},
   "source": [
    "2 clear findings are:\n",
    "<b>\n",
    "* images are not of fixed size\n",
    "* images can have multiple food items (different from labeled item)\n",
    "</b>"
   ]
  },
  {
   "cell_type": "markdown",
   "metadata": {},
   "source": [
    "Before we go further, let's see what is inside the <i>bb_info.txt</i> file."
   ]
  },
  {
   "cell_type": "code",
   "execution_count": null,
   "metadata": {},
   "outputs": [],
   "source": [
    "bbInfoMysteryContent = open(\"../../data/raw/dataset100/UECFOOD100/2/bb_info.txt\", \"r\")\n",
    "print(bbInfoMysteryContent.read(100)) # 100 denoted the number of words to read from file"
   ]
  },
  {
   "cell_type": "markdown",
   "metadata": {},
   "source": [
    "This contains pixel coordinates of the food in images. We can draw a rectangle using these coordinates on the image <i>15650.jpg</i>, whose coordinates are 27 152 258 312."
   ]
  },
  {
   "cell_type": "code",
   "execution_count": null,
   "metadata": {},
   "outputs": [],
   "source": [
    "import matplotlib.pyplot as plt\n",
    "import matplotlib.patches as patches\n",
    "from PIL import Image\n",
    "import numpy as np\n",
    "\n",
    "%matplotlib inline\n",
    "\n",
    "imageName = \"../../data/raw/dataset100/UECFOOD100/2/15650.jpg\"\n",
    "im = np.array(Image.open(imageName), dtype=np.uint8)\n",
    "\n",
    "# Create figure and axes\n",
    "fig,ax = plt.subplots(1, figsize=(12,8))\n",
    "\n",
    "# Display the image\n",
    "ax.imshow(im)\n",
    "\n",
    "# Create a Rectangle patch \n",
    "# format of coordinates changed to ((x1,y1),x2-x1,y2-y1)\n",
    "rect = patches.Rectangle((27,152),231,160,linewidth=5,edgecolor='b',facecolor='none')  \n",
    "\n",
    "# Add the patch to the Axes\n",
    "ax.add_patch(rect)\n",
    "\n",
    "plt.show()"
   ]
  },
  {
   "cell_type": "markdown",
   "metadata": {},
   "source": [
    "This shows the actual labeled food item in the whole image. This can be helpful later to recognize labeled food items from the image or to crop out the food item to prepare a better training set."
   ]
  },
  {
   "cell_type": "markdown",
   "metadata": {},
   "source": [
    "Next thing to look out in the dataset is to see whether it contains the <b><i>duplicate images</i></b>. Scanning directory 3 i.e. <i>pilaf</i>."
   ]
  },
  {
   "cell_type": "code",
   "execution_count": null,
   "metadata": {},
   "outputs": [],
   "source": [
    "path = '../../data/raw/dataset100/UECFOOD100/3'\n",
    "\n",
    "files = []\n",
    "\n",
    "# r=root, d=directories, f = files\n",
    "for r, d, f in os.walk(path):\n",
    "    for file in f:\n",
    "        files.append(os.path.join(r, file))\n",
    "        \n",
    "for i in (range(len(files))):\n",
    "    for j in range(i+1,len(files)):\n",
    "        if(open(files[i],\"rb\").read() == open(files[j],\"rb\").read()): # comparing images\n",
    "            display(Images(filename=files[i]))\n",
    "            display(Images(filename=files[j]))\n",
    "            print(\"Duplicate images are: \" + files[i] + \" & \" + files[j]) # printing the name of duplicate images."
   ]
  },
  {
   "cell_type": "markdown",
   "metadata": {},
   "source": [
    "Hmmmmm, this is interesting!!! We have 5 duplicate pilaf images. We can later remove this duplicity while preparing data for training. "
   ]
  },
  {
   "cell_type": "markdown",
   "metadata": {},
   "source": [
    "Also, the number of images in of each type differ. Let's see how many images are present in dataset for each type."
   ]
  },
  {
   "cell_type": "code",
   "execution_count": null,
   "metadata": {},
   "outputs": [],
   "source": [
    "path = ''\n",
    "numberOfFile = []\n",
    "for i in range(1,101):\n",
    "    path = '../../data/raw/dataset100/UECFOOD100/' + str(i)\n",
    "    \n",
    "    count = 0\n",
    "    # r=root, d=directories, f = files\n",
    "    for r, d, f in os.walk(path):\n",
    "        for file in f:\n",
    "            count += 1\n",
    "        numberOfFile.append(count)\n",
    "        \n",
    "plt.figure(figsize=(16,8))\n",
    "\n",
    "plt.xlabel('Directory Name')\n",
    "plt.ylabel('Number of images')\n",
    "plt.title('NUMBER OF IMAGES FOR EACH FOOD TYPE IN UECFOOD100')\n",
    "plt.grid(True)\n",
    "\n",
    "fileName = list(range(1, 101))\n",
    "plt.scatter(fileName, numberOfFile, s = 50, edgecolors='black')\n",
    "\n",
    "plt.xticks(np.arange(1, 99, 2.0))\n",
    "\n",
    "plt.show()"
   ]
  },
  {
   "cell_type": "markdown",
   "metadata": {},
   "source": [
    "As visible from the plot that the number of images for different food types do vary but not a lot. Most of the food type have image count between 100 to 200. There are 8 outliers and out of them the biggest one with most number of images is 36 i.e. <i>Miso Soup</i>."
   ]
  },
  {
   "cell_type": "markdown",
   "metadata": {},
   "source": [
    "Coming back to different size of images. Let's see how much they vary. But before that, we need to see if there are any other image type in the dataset apart from the <i>.jpg</i> type.  "
   ]
  },
  {
   "cell_type": "code",
   "execution_count": null,
   "metadata": {},
   "outputs": [],
   "source": [
    "count = 0\n",
    "\n",
    "for i in range(1,101): # looping through all directories\n",
    "    path = '../../data/raw/dataset100/UECFOOD100/' + str(i)\n",
    "    for r, d, f in os.walk(path):\n",
    "        for file in f:\n",
    "            fileName = os.path.join(r, file)\n",
    "            if(fileName[-3:] != 'jpg' and fileName[-3:] != 'txt'):\n",
    "                count += 1\n",
    "                \n",
    "print(\"Number of file types apart from .jpg and .txt in dataset are: \" + str(count))"
   ]
  },
  {
   "cell_type": "markdown",
   "metadata": {},
   "source": [
    "There are no other file in dataset apart from <i>jpg</i> type for images and <i>txt</i> for text files containing information about the pixel coordinates of the food in images."
   ]
  },
  {
   "cell_type": "markdown",
   "metadata": {},
   "source": [
    "We can now look at the variation in image sizes in the dataset. Size of an image can be calculated in various ways. As, all the images are of <i>jpg</i> type. We will be taking number of pixels as a measure of image size. "
   ]
  },
  {
   "cell_type": "code",
   "execution_count": null,
   "metadata": {},
   "outputs": [],
   "source": [
    "from tqdm import tqdm # to show the progress bar\n",
    "\n",
    "imageSizeList = []\n",
    "biggestImagePath = smallestImagePath = ''\n",
    "bigValueReference = 0\n",
    "bigImagePixels = (0, 0)\n",
    "smallValueReference = 8000\n",
    "smallImagePixels = (0, 0)\n",
    "\n",
    "for i in tqdm(range(1,101)): # looping through all directories\n",
    "    path = '../../data/raw/dataset100/UECFOOD100/' + str(i)\n",
    "    for r, d, f in os.walk(path):\n",
    "        for file in f:\n",
    "            fileName = os.path.join(r, file)\n",
    "            if(fileName[-3:] != 'txt'):\n",
    "                image = Image.open(fileName)\n",
    "                imageSize = image.size[0] * image.size[1] # multiplying the pixel dimensions of the image\n",
    "                imageSizeList.append(imageSize)\n",
    "                if(imageSize > bigValueReference):\n",
    "                    bigValueReference = imageSize\n",
    "                    biggestImagePath = fileName\n",
    "                    bigImagePixels = image.size\n",
    "                if(imageSize < smallValueReference):\n",
    "                    smallValueReference = imageSize\n",
    "                    smallestImagePath = fileName\n",
    "                    smallImagePixels = image.size\n",
    "\n",
    "\n",
    "plt.figure(figsize=(16,8))\n",
    "\n",
    "bins = list(range(min(imageSizeList), max(imageSizeList), ((max(imageSizeList) - min(imageSizeList)) // 50)))\n",
    "plt.hist(imageSizeList, bins, histtype='bar', rwidth=0.8, color='g')\n",
    "\n",
    "plt.xlabel('Number of pixel in images')\n",
    "plt.ylabel('Number of images')\n",
    "plt.title('SIZE OF IMAGES')\n",
    "\n",
    "plt.xticks(np.arange(min(imageSizeList),max(imageSizeList)+1, ((max(imageSizeList) - min(imageSizeList)) // 50)))\n",
    "plt.xticks(rotation=70)\n",
    "\n",
    "plt.show()"
   ]
  },
  {
   "cell_type": "markdown",
   "metadata": {},
   "source": [
    "The size of images is quite diverse, but most of the image lie in the fist half of the plot. Let's see the smallest and the biggest image in the dataset."
   ]
  },
  {
   "cell_type": "code",
   "execution_count": null,
   "metadata": {},
   "outputs": [],
   "source": [
    "print(\"Smallest image with pixel size of: \" + str(smallImagePixels[0]) + \" by \" + str(smallImagePixels[1]) ) \n",
    "display(Images(filename=smallestImagePath ))\n",
    "print(\"Biggest image with pixel size of: \" + str(bigImagePixels[0]) + \" by \" + str(bigImagePixels[1]) ) \n",
    "display(Images(filename=biggestImagePath))"
   ]
  },
  {
   "cell_type": "code",
   "execution_count": null,
   "metadata": {},
   "outputs": [],
   "source": []
  }
 ],
 "metadata": {
  "kernelspec": {
   "display_name": "Python 3",
   "language": "python",
   "name": "python3"
  },
  "language_info": {
   "codemirror_mode": {
    "name": "ipython",
    "version": 3
   },
   "file_extension": ".py",
   "mimetype": "text/x-python",
   "name": "python",
   "nbconvert_exporter": "python",
   "pygments_lexer": "ipython3",
   "version": "3.7.3"
  }
 },
 "nbformat": 4,
 "nbformat_minor": 2
}
