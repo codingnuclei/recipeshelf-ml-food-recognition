{
 "cells": [
  {
   "cell_type": "markdown",
   "metadata": {},
   "source": [
    "Starting with reading the datasets created for performance analysis in inception V3.ipynb notebook "
   ]
  },
  {
   "cell_type": "code",
   "execution_count": 1,
   "metadata": {},
   "outputs": [
    {
     "data": {
      "text/plain": [
       "['top5Pred3D', 'topPred2D']"
      ]
     },
     "execution_count": 1,
     "metadata": {},
     "output_type": "execute_result"
    }
   ],
   "source": [
    "import h5py\n",
    "hdf5File = h5py.File(r'..\\..\\data\\processed\\predictions.hdf5', 'r')\n",
    "list(hdf5File.keys())"
   ]
  },
  {
   "cell_type": "markdown",
   "metadata": {},
   "source": [
    "Nice! let's read the topPred2D dataset that contains the Top-1, 10-Crop image prediction"
   ]
  },
  {
   "cell_type": "code",
   "execution_count": 4,
   "metadata": {},
   "outputs": [
    {
     "data": {
      "text/plain": [
       "array([[ 0.,  0., 85., 85., 20., 85., 85.,  0., 20.,  0., 85., 85.],\n",
       "       [ 0.,  0.,  0.,  0.,  0.,  0.,  0.,  0.,  0.,  0.,  0.,  0.],\n",
       "       [ 0.,  0., 52., 50., 50., 52., 52., 52., 52., 50.,  0., 52.],\n",
       "       [ 0.,  0.,  0.,  0.,  0.,  0.,  0.,  0.,  0.,  0.,  0.,  0.],\n",
       "       [ 0.,  0.,  0.,  0.,  0.,  0.,  0.,  0.,  0.,  0.,  0.,  0.]])"
      ]
     },
     "execution_count": 4,
     "metadata": {},
     "output_type": "execute_result"
    }
   ],
   "source": [
    "Prediction2D = hdf5File['topPred2D']\n",
    "Prediction2D[:5]"
   ]
  },
  {
   "cell_type": "code",
   "execution_count": 12,
   "metadata": {},
   "outputs": [
    {
     "name": "stderr",
     "output_type": "stream",
     "text": [
      "100%|██████████████████████████████████████████████████████████████████████████| 25250/25250 [00:04<00:00, 5753.34it/s]\n"
     ]
    },
    {
     "name": "stdout",
     "output_type": "stream",
     "text": [
      "Top-1 Accuracy, 10-Crop: 78.72%\n",
      "Wall time: 4.42 s\n"
     ]
    }
   ],
   "source": [
    "%%time\n",
    "from tqdm import tqdm\n",
    "right_counter = 0\n",
    "for i in tqdm(range(len(Prediction2D))):\n",
    "    if Prediction2D[i][0] == Prediction2D[i][11]:\n",
    "        right_counter += 1\n",
    "        \n",
    "print('Top-1 Accuracy, 10-Crop: {0:.2f}%'.format(right_counter / len(Prediction2D) * 100))"
   ]
  },
  {
   "cell_type": "markdown",
   "metadata": {},
   "source": [
    "We are getting 78.72% accuracy in first trial. Now let's see the Top-5 accuracy, 10 crops. We are assuming that both topPred2D top5Pred3d contains prediction in same order for source image."
   ]
  },
  {
   "cell_type": "code",
   "execution_count": 16,
   "metadata": {},
   "outputs": [
    {
     "data": {
      "text/plain": [
       "array([[[52., 86., 85.,  2.,  0.],\n",
       "        [ 0., 97., 58.,  2., 85.],\n",
       "        [20., 52., 76., 85.,  0.],\n",
       "        [ 0., 52., 74., 20., 85.],\n",
       "        [52.,  9.,  2., 85.,  0.],\n",
       "        [97., 52., 85., 92.,  0.],\n",
       "        [86., 85.,  2., 52.,  0.],\n",
       "        [85., 74.,  0., 52., 20.],\n",
       "        [19., 76.,  2., 85.,  0.],\n",
       "        [92.,  9.,  2.,  0., 85.]],\n",
       "\n",
       "       [[52., 67., 59., 76.,  0.],\n",
       "        [47., 52., 59., 76.,  0.],\n",
       "        [67., 76.,  8., 62.,  0.],\n",
       "        [74., 85., 76.,  8.,  0.],\n",
       "        [47., 76., 62., 59.,  0.],\n",
       "        [59., 47., 52., 76.,  0.],\n",
       "        [52., 59., 67., 76.,  0.],\n",
       "        [74.,  2.,  8., 85.,  0.],\n",
       "        [76., 85., 62.,  8.,  0.],\n",
       "        [84., 67., 76., 62.,  0.]]])"
      ]
     },
     "execution_count": 16,
     "metadata": {},
     "output_type": "execute_result"
    }
   ],
   "source": [
    "Prediction3DTop5 = hdf5File['top5Pred3D']\n",
    "Prediction3DTop5[:2]"
   ]
  },
  {
   "cell_type": "code",
   "execution_count": 41,
   "metadata": {},
   "outputs": [
    {
     "name": "stderr",
     "output_type": "stream",
     "text": [
      "100%|██████████████████████████████████████████████████████████████████████████| 25250/25250 [00:15<00:00, 1677.52it/s]\n"
     ]
    },
    {
     "name": "stdout",
     "output_type": "stream",
     "text": [
      "Top-5 Accuracy, 10-Crop: 87.28%\n",
      "Wall time: 15.1 s\n"
     ]
    }
   ],
   "source": [
    "%%time\n",
    "import numpy as np\n",
    "topPred2D = np.zeros(5)\n",
    "top_5_counter = 0\n",
    "\n",
    "for i in tqdm(range(len(Prediction3DTop5))):\n",
    "    for j in range(5):\n",
    "        counts = np.bincount(list(np.transpose(Prediction3DTop5[i])[j]))\n",
    "        mostCommonPrediction = np.argmax(counts)\n",
    "        topPred2D[j] =  mostCommonPrediction\n",
    "        \n",
    "    if (Prediction2D[i][0] in topPred2D):\n",
    "        top_5_counter += 1\n",
    "        \n",
    "print('Top-5 Accuracy, 10-Crop: {0:.2f}%'.format(top_5_counter / len(Prediction2D) * 100))"
   ]
  },
  {
   "cell_type": "markdown",
   "metadata": {},
   "source": [
    "For Top-5 accuracy we get 87.28%. Which is a big jump. For calculating the value we used the most common value among same index of top-5 prediction for each crop. We can use another technique where we use all the values in top-5 and find the top 5 most common values of it. "
   ]
  },
  {
   "cell_type": "code",
   "execution_count": 75,
   "metadata": {},
   "outputs": [
    {
     "name": "stderr",
     "output_type": "stream",
     "text": [
      "100%|██████████████████████████████████████████████████████████████████████████| 25250/25250 [00:17<00:00, 1428.50it/s]\n"
     ]
    },
    {
     "name": "stdout",
     "output_type": "stream",
     "text": [
      "Top-5 Accuracy, 10-Crop: 93.53%\n",
      "Wall time: 17.7 s\n"
     ]
    }
   ],
   "source": [
    "%%time\n",
    "from collections import Counter\n",
    "topPred2D = np.zeros(5)\n",
    "top_5_counter = 0\n",
    "\n",
    "for i in tqdm(range(len(Prediction3DTop5))):\n",
    "    for j in range(5):\n",
    "        mostCommonFlattenedList = Counter(list(Prediction3DTop5[i].flatten())).most_common(5)\n",
    "        topPred2D[j] =  mostCommonFlattenedList[j][0]\n",
    "      \n",
    "    if (Prediction2D[i][0] in topPred2D):\n",
    "        top_5_counter += 1\n",
    "        \n",
    "print('Top-5 Accuracy, 10-Crop: {0:.2f}%'.format(top_5_counter / len(Prediction2D) * 100))"
   ]
  },
  {
   "cell_type": "markdown",
   "metadata": {},
   "source": [
    "Nice!! Got a jump of more than 6% accuracy. "
   ]
  }
 ],
 "metadata": {
  "kernelspec": {
   "display_name": "Python 3",
   "language": "python",
   "name": "python3"
  },
  "language_info": {
   "codemirror_mode": {
    "name": "ipython",
    "version": 3
   },
   "file_extension": ".py",
   "mimetype": "text/x-python",
   "name": "python",
   "nbconvert_exporter": "python",
   "pygments_lexer": "ipython3",
   "version": "3.7.3"
  }
 },
 "nbformat": 4,
 "nbformat_minor": 2
}
